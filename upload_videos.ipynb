{
 "cells": [
  {
   "cell_type": "code",
   "execution_count": null,
   "metadata": {},
   "outputs": [],
   "source": [
    "from datasets import Dataset, DatasetDict\n",
    "from moviepy.editor import VideoFileClip\n",
    "import os"
   ]
  },
  {
   "cell_type": "code",
   "execution_count": null,
   "metadata": {},
   "outputs": [],
   "source": [
    "!huggingface-cli login"
   ]
  },
  {
   "cell_type": "code",
   "execution_count": 5,
   "metadata": {},
   "outputs": [
    {
     "name": "stderr",
     "output_type": "stream",
     "text": [
      "Creating parquet from Arrow format: 100%|██████████| 1/1 [00:00<00:00, 62.86ba/s]\n",
      "Pushing dataset shards to the dataset hub: 100%|██████████| 1/1 [00:01<00:00,  1.32s/it]\n"
     ]
    }
   ],
   "source": [
    "# Path to video files folder\n",
    "video_folder = \"videos/\"\n",
    "\n",
    "# Dataset properties\n",
    "dataset_id = \"videos\"\n",
    "dataset_name = \"Video Dataset\"\n",
    "dataset_description = \"Test datasets for videos\"\n",
    "\n",
    "# Load and prepare the dataset\n",
    "video_paths = [os.path.join(video_folder, filename) for filename in os.listdir(video_folder) if filename.endswith('.mp4')]\n",
    "\n",
    "dataset_list = []\n",
    "\n",
    "for video_path in video_paths:\n",
    "    clip = VideoFileClip(video_path)\n",
    "    duration_seconds = clip.duration\n",
    "    with open(video_path, \"rb\") as f:\n",
    "        video_data = f.read()\n",
    "    dataset_list.append({\"video_data\": video_data, \"duration_seconds\": duration_seconds, \"video_path\": video_path})\n",
    "\n",
    "# Create a dataset using the datasets.Dataset class\n",
    "my_dataset = Dataset.from_list(dataset_list)\n",
    "\n",
    "# Create a DatasetDict and add your dataset to it\n",
    "custom_datasets = DatasetDict({\"train\": my_dataset})\n",
    "\n",
    "# Register the dataset with the datasets library\n",
    "custom_datasets.push_to_hub(dataset_id)"
   ]
  }
 ],
 "metadata": {
  "kernelspec": {
   "display_name": ".venv",
   "language": "python",
   "name": "python3"
  },
  "language_info": {
   "codemirror_mode": {
    "name": "ipython",
    "version": 3
   },
   "file_extension": ".py",
   "mimetype": "text/x-python",
   "name": "python",
   "nbconvert_exporter": "python",
   "pygments_lexer": "ipython3",
   "version": "3.9.4"
  }
 },
 "nbformat": 4,
 "nbformat_minor": 2
}
